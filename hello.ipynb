{
 "cells": [
  {
   "cell_type": "code",
   "execution_count": null,
   "metadata": {},
   "outputs": [
    {
     "name": "stdout",
     "output_type": "stream",
     "text": [
      "Requirement already satisfied: pip in /home/grigio/miniconda3/envs/p311/lib/python3.11/site-packages (24.2)\n",
      "Requirement already satisfied: ipykernel in /home/grigio/miniconda3/envs/p311/lib/python3.11/site-packages (6.29.5)\n",
      "Requirement already satisfied: uv in /home/grigio/miniconda3/envs/p311/lib/python3.11/site-packages (0.6.1)\n",
      "Requirement already satisfied: comm>=0.1.1 in /home/grigio/miniconda3/envs/p311/lib/python3.11/site-packages (from ipykernel) (0.2.2)\n",
      "Requirement already satisfied: debugpy>=1.6.5 in /home/grigio/miniconda3/envs/p311/lib/python3.11/site-packages (from ipykernel) (1.8.12)\n",
      "Requirement already satisfied: ipython>=7.23.1 in /home/grigio/miniconda3/envs/p311/lib/python3.11/site-packages (from ipykernel) (8.32.0)\n",
      "Requirement already satisfied: jupyter-client>=6.1.12 in /home/grigio/miniconda3/envs/p311/lib/python3.11/site-packages (from ipykernel) (8.6.3)\n",
      "Requirement already satisfied: jupyter-core!=5.0.*,>=4.12 in /home/grigio/miniconda3/envs/p311/lib/python3.11/site-packages (from ipykernel) (5.7.2)\n",
      "Requirement already satisfied: matplotlib-inline>=0.1 in /home/grigio/miniconda3/envs/p311/lib/python3.11/site-packages (from ipykernel) (0.1.7)\n",
      "Requirement already satisfied: nest-asyncio in /home/grigio/miniconda3/envs/p311/lib/python3.11/site-packages (from ipykernel) (1.6.0)\n",
      "Requirement already satisfied: packaging in /home/grigio/miniconda3/envs/p311/lib/python3.11/site-packages (from ipykernel) (24.2)\n",
      "Requirement already satisfied: psutil in /home/grigio/miniconda3/envs/p311/lib/python3.11/site-packages (from ipykernel) (6.1.1)\n",
      "Requirement already satisfied: pyzmq>=24 in /home/grigio/miniconda3/envs/p311/lib/python3.11/site-packages (from ipykernel) (26.2.1)\n",
      "Requirement already satisfied: tornado>=6.1 in /home/grigio/miniconda3/envs/p311/lib/python3.11/site-packages (from ipykernel) (6.4.2)\n",
      "Requirement already satisfied: traitlets>=5.4.0 in /home/grigio/miniconda3/envs/p311/lib/python3.11/site-packages (from ipykernel) (5.14.3)\n",
      "Requirement already satisfied: decorator in /home/grigio/miniconda3/envs/p311/lib/python3.11/site-packages (from ipython>=7.23.1->ipykernel) (5.1.1)\n",
      "Requirement already satisfied: jedi>=0.16 in /home/grigio/miniconda3/envs/p311/lib/python3.11/site-packages (from ipython>=7.23.1->ipykernel) (0.19.2)\n",
      "Requirement already satisfied: pexpect>4.3 in /home/grigio/miniconda3/envs/p311/lib/python3.11/site-packages (from ipython>=7.23.1->ipykernel) (4.9.0)\n",
      "Requirement already satisfied: prompt_toolkit<3.1.0,>=3.0.41 in /home/grigio/miniconda3/envs/p311/lib/python3.11/site-packages (from ipython>=7.23.1->ipykernel) (3.0.50)\n",
      "Requirement already satisfied: pygments>=2.4.0 in /home/grigio/miniconda3/envs/p311/lib/python3.11/site-packages (from ipython>=7.23.1->ipykernel) (2.19.1)\n",
      "Requirement already satisfied: stack_data in /home/grigio/miniconda3/envs/p311/lib/python3.11/site-packages (from ipython>=7.23.1->ipykernel) (0.6.3)\n",
      "Requirement already satisfied: typing_extensions>=4.6 in /home/grigio/miniconda3/envs/p311/lib/python3.11/site-packages (from ipython>=7.23.1->ipykernel) (4.12.2)\n",
      "Requirement already satisfied: python-dateutil>=2.8.2 in /home/grigio/miniconda3/envs/p311/lib/python3.11/site-packages (from jupyter-client>=6.1.12->ipykernel) (2.9.0.post0)\n",
      "Requirement already satisfied: platformdirs>=2.5 in /home/grigio/miniconda3/envs/p311/lib/python3.11/site-packages (from jupyter-core!=5.0.*,>=4.12->ipykernel) (4.3.6)\n",
      "Requirement already satisfied: parso<0.9.0,>=0.8.4 in /home/grigio/miniconda3/envs/p311/lib/python3.11/site-packages (from jedi>=0.16->ipython>=7.23.1->ipykernel) (0.8.4)\n",
      "Requirement already satisfied: ptyprocess>=0.5 in /home/grigio/miniconda3/envs/p311/lib/python3.11/site-packages (from pexpect>4.3->ipython>=7.23.1->ipykernel) (0.7.0)\n",
      "Requirement already satisfied: wcwidth in /home/grigio/miniconda3/envs/p311/lib/python3.11/site-packages (from prompt_toolkit<3.1.0,>=3.0.41->ipython>=7.23.1->ipykernel) (0.2.13)\n",
      "Requirement already satisfied: six>=1.5 in /home/grigio/miniconda3/envs/p311/lib/python3.11/site-packages (from python-dateutil>=2.8.2->jupyter-client>=6.1.12->ipykernel) (1.17.0)\n",
      "Requirement already satisfied: executing>=1.2.0 in /home/grigio/miniconda3/envs/p311/lib/python3.11/site-packages (from stack_data->ipython>=7.23.1->ipykernel) (2.1.0)\n",
      "Requirement already satisfied: asttokens>=2.1.0 in /home/grigio/miniconda3/envs/p311/lib/python3.11/site-packages (from stack_data->ipython>=7.23.1->ipykernel) (3.0.0)\n",
      "Requirement already satisfied: pure_eval in /home/grigio/miniconda3/envs/p311/lib/python3.11/site-packages (from stack_data->ipython>=7.23.1->ipykernel) (0.2.3)\n",
      "Note: you may need to restart the kernel to use updated packages.\n",
      "uv 0.6.1\n",
      "Using CPython \u001b[36m3.11.11\u001b[39m\n",
      "Creating virtual environment at: \u001b[36m.venv\u001b[39m\n",
      "Activate with: \u001b[32msource .venv/bin/activate\u001b[39m\n",
      "\u001b[2mUsing Python 3.11.11 environment at: /home/grigio/miniconda3/envs/p311\u001b[0m\n",
      "\u001b[2mAudited \u001b[1m3 packages\u001b[0m \u001b[2min 10ms\u001b[0m\u001b[0m\n"
     ]
    }
   ],
   "source": [
    "%pip install pip ipykernel uv\n",
    "!uv --version\n",
    "\n",
    "!uv venv\n",
    "!source .venv/bin/activate\n",
    "!uv pip install --system pandas qiskit==1.1.2 qiskit-aer==0.15.0\n",
    "\n",
    "# venv with p311\n",
    "# install in system: python-pipx "
   ]
  },
  {
   "cell_type": "code",
   "execution_count": 5,
   "metadata": {},
   "outputs": [
    {
     "name": "stdout",
     "output_type": "stream",
     "text": [
      "Counts: {'000': 71, '111': 57}\n"
     ]
    }
   ],
   "source": [
    "from qiskit import QuantumCircuit\n",
    "from qiskit_aer import AerSimulator\n",
    "from qiskit.primitives import Sampler\n",
    "\n",
    "# Create a simple quantum circuit\n",
    "qc = QuantumCircuit(3)\n",
    "\n",
    "# Generate a 3-qubit GHZ state\n",
    "qc.h(0)           # Apply Hadamard gate to the first qubit\n",
    "qc.cx(0, 1)       # Apply CNOT gate from qubit 0 to qubit 1\n",
    "qc.cx(1, 2)       # Apply CNOT gate from qubit 1 to qubit 2\n",
    "qc.measure_all()  # Measure all qubits\n",
    "\n",
    "# Initialize the simulator\n",
    "simulator = AerSimulator()\n",
    "\n",
    "# Create a Sampler instance\n",
    "sampler = Sampler()\n",
    "\n",
    "# Run the circuit on the simulator with the specified number of shots\n",
    "job = sampler.run([qc], shots=128)\n",
    "\n",
    "# Get the results\n",
    "result = job.result()\n",
    "\n",
    "# Access the quasi-distribution from the first result\n",
    "quasi_dist = result.quasi_dists[0]  # Get QuasiDistribution from result\n",
    "counts = {format(key, '03b'): int(value * 128) for key, value in quasi_dist.items()}\n",
    "print('Counts:', counts)\n"
   ]
  }
 ],
 "metadata": {
  "kernelspec": {
   "display_name": "p311",
   "language": "python",
   "name": "python3"
  },
  "language_info": {
   "codemirror_mode": {
    "name": "ipython",
    "version": 3
   },
   "file_extension": ".py",
   "mimetype": "text/x-python",
   "name": "python",
   "nbconvert_exporter": "python",
   "pygments_lexer": "ipython3",
   "version": "3.11.11"
  }
 },
 "nbformat": 4,
 "nbformat_minor": 2
}
